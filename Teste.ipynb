{
  "nbformat": 4,
  "nbformat_minor": 0,
  "metadata": {
    "colab": {
      "provenance": [],
      "mount_file_id": "14bzxnuuE_bO8JopYQ4vir5ycLsahP2Vy",
      "authorship_tag": "ABX9TyNBkuFYzxUkd+kYPaxGkR3x",
      "include_colab_link": true
    },
    "kernelspec": {
      "name": "python3",
      "display_name": "Python 3"
    },
    "language_info": {
      "name": "python"
    }
  },
  "cells": [
    {
      "cell_type": "markdown",
      "metadata": {
        "id": "view-in-github",
        "colab_type": "text"
      },
      "source": [
        "<a href=\"https://colab.research.google.com/github/robsong3/ojs_rob/blob/main/Teste.ipynb\" target=\"_parent\"><img src=\"https://colab.research.google.com/assets/colab-badge.svg\" alt=\"Open In Colab\"/></a>"
      ]
    },
    {
      "cell_type": "markdown",
      "source": [
        "##Site oficial: [Documentação pypdf](https://pypdf.readthedocs.io/en/stable/user/installation.html)\n",
        "\n",
        "\n"
      ],
      "metadata": {
        "id": "8PYdpq9rZ1Gw"
      }
    },
    {
      "cell_type": "code",
      "source": [
        "!python --version"
      ],
      "metadata": {
        "colab": {
          "base_uri": "https://localhost:8080/"
        },
        "id": "SawcWuQZazP8",
        "outputId": "61e40b0d-d01c-4bc2-9cb8-2e2cce919533"
      },
      "execution_count": null,
      "outputs": [
        {
          "output_type": "stream",
          "name": "stdout",
          "text": [
            "Python 3.10.12\n"
          ]
        }
      ]
    },
    {
      "cell_type": "markdown",
      "source": [],
      "metadata": {
        "id": "EhDkh0ZfRH5u"
      }
    },
    {
      "cell_type": "code",
      "source": [
        "pip install pypdf"
      ],
      "metadata": {
        "colab": {
          "base_uri": "https://localhost:8080/"
        },
        "id": "ZMqmse7uaOun",
        "outputId": "6f9650cb-5ad4-4d34-e573-df1c4eb3a551"
      },
      "execution_count": null,
      "outputs": [
        {
          "output_type": "stream",
          "name": "stdout",
          "text": [
            "Requirement already satisfied: pypdf in /usr/local/lib/python3.10/dist-packages (4.1.0)\n"
          ]
        }
      ]
    },
    {
      "cell_type": "code",
      "source": [
        "import os\n",
        "import pypdf"
      ],
      "metadata": {
        "id": "tV_b5Ipvalug"
      },
      "execution_count": null,
      "outputs": []
    },
    {
      "cell_type": "markdown",
      "source": [
        "### Conectar no GDrive\n",
        "\n"
      ],
      "metadata": {
        "id": "0VaN41LXq9KA"
      }
    },
    {
      "cell_type": "code",
      "source": [
        "from google.colab import drive\n",
        "drive.mount('/content/drive')"
      ],
      "metadata": {
        "colab": {
          "base_uri": "https://localhost:8080/"
        },
        "id": "dD1dLGyZe8AK",
        "outputId": "8d32ccce-f0ac-4efe-dc68-0633869ec8cd"
      },
      "execution_count": null,
      "outputs": [
        {
          "output_type": "stream",
          "name": "stdout",
          "text": [
            "Drive already mounted at /content/drive; to attempt to forcibly remount, call drive.mount(\"/content/drive\", force_remount=True).\n"
          ]
        }
      ]
    },
    {
      "cell_type": "code",
      "source": [
        "from pypdf import PdfReader\n",
        "caminho = '/content/drive/MyDrive/Colab Notebooks/OpenJournalSystems/trabalhos_em_pdf/'\n",
        "raiz = caminho + 'Ciências Biológicas e da Saúde/'\n",
        "arq = os.listdir(raiz)[3]\n",
        "completo = raiz + arq"
      ],
      "metadata": {
        "id": "AqgdGnUwfQ3S"
      },
      "execution_count": null,
      "outputs": []
    },
    {
      "cell_type": "code",
      "source": [
        "reader = PdfReader(completo)\n",
        "page = reader.pages[0]"
      ],
      "metadata": {
        "id": "8cQRe7VDfwF2"
      },
      "execution_count": null,
      "outputs": []
    },
    {
      "cell_type": "code",
      "source": [
        "# extract only text oriented up\n",
        "print(page.extract_text(0))"
      ],
      "metadata": {
        "id": "mHcUFmVztyxD"
      },
      "execution_count": null,
      "outputs": []
    },
    {
      "cell_type": "markdown",
      "source": [
        "\n",
        "\n",
        "---\n"
      ],
      "metadata": {
        "id": "6QBQF5OOSEVJ"
      }
    },
    {
      "cell_type": "code",
      "source": [
        "# extract text in a fixed width format that closely adheres to the rendered\n",
        "# layout in the source pdf\n",
        "print(page.extract_text(extraction_mode=\"layout\"))"
      ],
      "metadata": {
        "id": "IHijxQ4DtgjO"
      },
      "execution_count": null,
      "outputs": []
    },
    {
      "cell_type": "code",
      "source": [
        "# extract text preserving horizontal positioning without excess vertical\n",
        "# whitespace (removes blank and \"whitespace only\" lines)\n",
        "print(page.extract_text(extraction_mode='layout', layout_mode_space_vertically=False))"
      ],
      "metadata": {
        "id": "su-9x85OuGq2",
        "colab": {
          "base_uri": "https://localhost:8080/"
        },
        "outputId": "cb26fffa-36bd-49f0-b862-0aca01652b7e"
      },
      "execution_count": null,
      "outputs": [
        {
          "output_type": "stream",
          "name": "stdout",
          "text": [
            "         SÍNTESE E CARACTERIZAÇÃO DE COMPOSTOS ORGÂNICOS ANÁLOGOS AO\n",
            "                      GERANIOL COM POTENCIAL ATIVIDADE ANTINEOPLÁSICA\n",
            "                             Carolina Martinez Bonora1 (IC), Mauricio Frota Saraiva (PQ)1\n",
            "                                                 1Universidade Federal de Itajubá (UNIFEI)\n",
            " Palavras-chave: Câncer. Terpenos. Geraniol. Síntese. Caracterização.\n",
            "                          Introdução                                     anti-inflamatória,            antiviral,            antibacteriana,\n",
            "                                                                         anticancerígena, dentre outras       (SÁ et al., 2021). Como\n",
            "         O câncer consiste em uma doença decorrente do                   exemplo de tais compostos  tem-se o geraniol, um álcool\n",
            "crescimento desordenado de células anormais as quais, a                  monoterpênico  acíclico  cuja  atividade  anticancerígena\n",
            "princípio  saudáveis,  podem  se  dirigir  a  outro  tecido              fora comprovada em diversas pesquisas realizadas ao\n",
            "diferente  do  de  origem,      quadro  esse  que  consiste  o           longo dos anos para vários tipos de tumores (CHO et al.,\n",
            "fenômeno     de metástase (WHO, 2022). O processo de                     2016).   Ademais,  o  geraniol  é  classificado  como  um\n",
            "carcinogênese,  em  que  células   normais   se   tornam                 composto seguro pela        Food and Drug Administration\n",
            "cancerosas,   é   ocasionado        por   alterações   genéticas         (FDA),  agência  norte-americana,  contando,  também\n",
            "(INCA, 2022a)      as quais podem ser decorrentes de um                  com outros atrativos, como a ação sinérgica com outros\n",
            "pré-disposição genética do        indivíduo ou da exposição              compostos,         inclusive         com         medicamentos\n",
            "desse a fatores externos, como, por exemplo, tabagismo                   quimioterápicos, e aplicações terapêuticas variadas.\n",
            "e radiações ionizantes (WHO, 2022).                                               Assim,  mediante  a  eficácia  parcial  e  efeitos\n",
            "         O câncer apresenta-se há muito tempo como um                    colaterais oriundos dos tratamentos convencionais para\n",
            "dos principais problemas de saúde em            âmbito mundial,          o câncer e, por outro lado, mediante a abundância de\n",
            "de modo a envolver milhões de novos casos a cada ano                     recursos naturais, a atividade eficaz e específica de seus\n",
            "dos quais, então, decorrem inúmeros óbitos (SUNG et                      compostos  e  o     amplo  potencial  terapêutico       desses,  o\n",
            "al.,  2021).  Assim,  ao  longo  do  tempo,  buscou-se                   desenvolvimento de análogos a tais compostos, como o\n",
            "desenvolver  práticas  terapêuticas  para  o  combate  à                 geraniol,       como        possíveis       novos       fármacos\n",
            "doença, de modo que hoje essas abordam três vertentes:                   quimioterápicos    apresenta-se   como   uma   proposta\n",
            "cirurgia,  radioterapia  e  quimioterapia  (INCA,  2011).                extremamente  promissora.          Desse  modo,  a  presente\n",
            "Todavia,  apesar  dessas  terem  apresentado            resultados       pesquisa visou à síntese de seis compostos análogos ao\n",
            "positivos  desde  seu  estabelecimento,  tais  tratamentos               geraniol, com potencial atividade antineoplásica.\n",
            "não  apresentam  uma  eficácia  certeira.  Esse  quadro\n",
            "decorre da complexidade do câncer, da progressão da                                               Metodologia\n",
            "doença e de seus diferentes tipos e modos de ação no\n",
            "organismo. Além do que, a propensão de suscitar efeitos                           De modo geral, o desenvolvimento da presente\n",
            "colaterais mediante tais tratamentos é alta.                             pesquisa   envolveu   cinco   etapas-padrão:   reação   de\n",
            "         Nos   últimos   anos         a   fitoterapia   vem   se         síntese,      extração,      evaporação,      purificação      e\n",
            "apresentando  como  uma  área  promissora,  de  modo  a                  caracterização.  Em  todos  os  casos,  a  primeira  etapa\n",
            "ganhar o interesse do ramo farmacêutico. Tal área busca                  demandou uma primeira reação padrão, da qual provém\n",
            "estudar atividades terapêuticas exercidas por compostos                  o   composto   intermediário,   Brometo   de   Geranila,\n",
            "naturais oriundos de plantas (SÁ et al., 2021). Esses                    utilizado nas reações seguintes, ou seja, tal composto é\n",
            "compostos   envolvem,   na   maioria   das   vezes,   os                 ponto de partida comum para todas as sínteses. Essas\n",
            "metabólitos secundários de vegetais os quais comportam                   envolveram três reagentes distintos, a dietanolamina, a\n",
            "três classes: compostos fenólicos, alcaloides e terpenos                 3-amino-1,2-propanodiol e a trietanolamina, sendo que\n",
            "(MOREIRA, 2013).                                                         o  uso   direto    desses   culminou  na  formação  de  três\n",
            "         Os     terpenos     consistem     nos     principais            compostos: 1a, 1b e 1c, respectivamente. A partir do\n",
            "componentes  de  óleos  essenciais  de  plantas,  sendo                  composto 1a, foram realizadas outras duas reações para\n",
            "responsáveis  pelo  aroma  característico  desses.  Mas,                 a  formação  de  seus  derivados:  o  composto  2a,  que\n",
            "além disso, ao longo dos anos demonstraram apresentar                    consiste em  um intermediário, e o composto 3a. Por\n",
            "um  vasto  leque  de  propriedades  terapêuticas,  como:                 outro lado, a partir do composto 1b, outra reação fora\n"
          ]
        }
      ]
    },
    {
      "cell_type": "code",
      "source": [
        "# exclude (default) or include (as shown below) text rotated w.r.t. the page\n",
        "print(page.extract_text(extraction_mode=\"layout\", layout_mode_strip_rotated=False))"
      ],
      "metadata": {
        "id": "JjvncchLwPJi"
      },
      "execution_count": null,
      "outputs": []
    },
    {
      "cell_type": "code",
      "source": [
        "# adjust horizontal spacing\n",
        "print(page.extract_text(extraction_mode=\"layout\", layout_mode_scale_weight=1.0))"
      ],
      "metadata": {
        "id": "5lPnc1ravxEA",
        "colab": {
          "base_uri": "https://localhost:8080/"
        },
        "outputId": "4a575fe5-a0c8-42a9-e1e6-d8f1c5dff145"
      },
      "execution_count": null,
      "outputs": [
        {
          "output_type": "stream",
          "name": "stdout",
          "text": [
            "       SÍNTESE E CARACTERIZAÇÃO DE COMPOSTOS ORGÂNICOS ANÁLOGOS AO\n",
            "                 GERANIOL COM POTENCIAL ATIVIDADE ANTINEOPLÁSICA\n",
            "\n",
            "                       Carolina Martinez Bonora1 (IC), Mauricio Frota Saraiva (PQ)1\n",
            "\n",
            "                                       1Universidade Federal de Itajubá (UNIFEI)\n",
            "\n",
            " Palavras-chave: Câncer. Terpenos. Geraniol. Síntese. Caracterização.\n",
            "\n",
            "                     Introdução                           anti-inflamatória,            antiviral,            antibacteriana,\n",
            "                                                          anticancerígena, dentre outras (SÁ et al., 2021). Como\n",
            "       O câncer consiste em uma doença decorrente do      exemplo de tais compostos  tem-se o geraniol, um álcool\n",
            "crescimento desordenado de células anormais as quais, a   monoterpênico  acíclico  cuja  atividade  anticancerígena\n",
            "princípio  saudáveis,  podem  se  dirigir  a  outro  tecido fora comprovada em diversas pesquisas realizadas ao\n",
            "diferente  do  de  origem, quadro  esse  que  consiste  o longo dos anos para vários tipos de tumores (CHO et al.,\n",
            "fenômeno  de metástase (WHO, 2022). O processo de         2016).  Ademais,  o  geraniol  é  classificado  como  um\n",
            "carcinogênese,  em  que  células   normais   se   tornam  composto seguro pela   Food and Drug Administration\n",
            "cancerosas,   é   ocasionado por  alterações   genéticas  (FDA),  agência  norte-americana,  contando,  também\n",
            "(INCA, 2022a)  as quais podem ser decorrentes de um       com outros atrativos, como a ação sinérgica com outros\n",
            "pré-disposição genética do indivíduo ou da exposição      compostos,         inclusive         com         medicamentos\n",
            "desse a fatores externos, como, por exemplo, tabagismo    quimioterápicos, e aplicações terapêuticas variadas.\n",
            "e radiações ionizantes (WHO, 2022).                               Assim,  mediante  a  eficácia  parcial  e  efeitos\n",
            "       O câncer apresenta-se há muito tempo como um       colaterais oriundos dos tratamentos convencionais para\n",
            "dos principais problemas de saúde em  âmbito mundial,     o câncer e, por outro lado, mediante a abundância de\n",
            "de modo a envolver milhões de novos casos a cada ano      recursos naturais, a atividade eficaz e específica de seus\n",
            "dos quais, então, decorrem inúmeros óbitos (SUNG et       compostos  e  o amplo  potencial  terapêutico desses,  o\n",
            "al.,  2021).  Assim,  ao  longo  do  tempo,  buscou-se    desenvolvimento de análogos a tais compostos, como o\n",
            "desenvolver  práticas  terapêuticas  para  o  combate  à  geraniol,       como   possíveis       novos       fármacos\n",
            "doença, de modo que hoje essas abordam três vertentes:    quimioterápicos    apresenta-se   como   uma   proposta\n",
            "cirurgia,  radioterapia  e  quimioterapia  (INCA,  2011). extremamente  promissora.   Desse  modo,  a  presente\n",
            "Todavia,  apesar  dessas  terem  apresentado resultados   pesquisa visou à síntese de seis compostos análogos ao\n",
            "positivos  desde  seu  estabelecimento,  tais  tratamentos geraniol, com potencial atividade antineoplásica.\n",
            "não  apresentam  uma  eficácia  certeira.  Esse  quadro\n",
            "decorre da complexidade do câncer, da progressão da                           Metodologia\n",
            "doença e de seus diferentes tipos e modos de ação no\n",
            "organismo. Além do que, a propensão de suscitar efeitos           De modo geral, o desenvolvimento da presente\n",
            "colaterais mediante tais tratamentos é alta.              pesquisa   envolveu   cinco   etapas-padrão:   reação   de\n",
            "       Nos   últimos   anos   a   fitoterapia   vem   se  síntese,      extração,      evaporação,      purificação      e\n",
            "apresentando  como  uma  área  promissora,  de  modo  a   caracterização.  Em  todos  os  casos,  a  primeira  etapa\n",
            "ganhar o interesse do ramo farmacêutico. Tal área busca   demandou uma primeira reação padrão, da qual provém\n",
            "estudar atividades terapêuticas exercidas por compostos   o   composto   intermediário,   Brometo   de   Geranila,\n",
            "naturais oriundos de plantas (SÁ et al., 2021). Esses     utilizado nas reações seguintes, ou seja, tal composto é\n",
            "compostos   envolvem,   na   maioria   das   vezes,   os  ponto de partida comum para todas as sínteses. Essas\n",
            "metabólitos secundários de vegetais os quais comportam    envolveram três reagentes distintos, a dietanolamina, a\n",
            "três classes: compostos fenólicos, alcaloides e terpenos  3-amino-1,2-propanodiol e a trietanolamina, sendo que\n",
            "(MOREIRA, 2013).                                          o  uso direto   desses culminou  na  formação  de  três\n",
            "       Os     terpenos     consistem     nos     principais compostos: 1a, 1b e 1c, respectivamente. A partir do\n",
            "componentes  de  óleos  essenciais  de  plantas,  sendo   composto 1a, foram realizadas outras duas reações para\n",
            "responsáveis  pelo  aroma  característico  desses.  Mas,  a  formação  de  seus  derivados:  o  composto  2a,  que\n",
            "além disso, ao longo dos anos demonstraram apresentar     consiste em  um intermediário, e o composto 3a. Por\n",
            "um  vasto  leque  de  propriedades  terapêuticas,  como:  outro lado, a partir do composto 1b, outra reação fora\n"
          ]
        }
      ]
    }
  ]
}