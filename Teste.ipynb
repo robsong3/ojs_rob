{
  "nbformat": 4,
  "nbformat_minor": 0,
  "metadata": {
    "colab": {
      "provenance": [],
      "authorship_tag": "ABX9TyOj0hJ3k4pG4glhPMKt4WRM",
      "include_colab_link": true
    },
    "kernelspec": {
      "name": "python3",
      "display_name": "Python 3"
    },
    "language_info": {
      "name": "python"
    }
  },
  "cells": [
    {
      "cell_type": "markdown",
      "metadata": {
        "id": "view-in-github",
        "colab_type": "text"
      },
      "source": [
        "<a href=\"https://colab.research.google.com/github/robsong3/ojs_rob/blob/main/Teste.ipynb\" target=\"_parent\"><img src=\"https://colab.research.google.com/assets/colab-badge.svg\" alt=\"Open In Colab\"/></a>"
      ]
    },
    {
      "cell_type": "markdown",
      "source": [
        "##Site oficial\n",
        "\n",
        "[https://pypdf.readthedocs.io/en/stable/user/installation.html](https://)\n",
        "\n"
      ],
      "metadata": {
        "id": "8PYdpq9rZ1Gw"
      }
    },
    {
      "cell_type": "code",
      "source": [
        "!python --version"
      ],
      "metadata": {
        "colab": {
          "base_uri": "https://localhost:8080/"
        },
        "id": "SawcWuQZazP8",
        "outputId": "2089ecb7-48ff-4781-d665-0dc963fd35ab"
      },
      "execution_count": 77,
      "outputs": [
        {
          "output_type": "stream",
          "name": "stdout",
          "text": [
            "Python 3.10.12\n"
          ]
        }
      ]
    },
    {
      "cell_type": "code",
      "source": [
        "pip install pypdf"
      ],
      "metadata": {
        "colab": {
          "base_uri": "https://localhost:8080/"
        },
        "id": "ZMqmse7uaOun",
        "outputId": "131f9317-cba8-442e-e243-bf911fd1282f"
      },
      "execution_count": 80,
      "outputs": [
        {
          "output_type": "stream",
          "name": "stdout",
          "text": [
            "Requirement already satisfied: pypdf in /usr/local/lib/python3.10/dist-packages (4.1.0)\n"
          ]
        }
      ]
    },
    {
      "cell_type": "code",
      "source": [
        "import os\n",
        "import pypdf\n"
      ],
      "metadata": {
        "id": "tV_b5Ipvalug"
      },
      "execution_count": 82,
      "outputs": []
    },
    {
      "cell_type": "markdown",
      "source": [
        "### Conectar no GDrive\n",
        "\n"
      ],
      "metadata": {
        "id": "0VaN41LXq9KA"
      }
    },
    {
      "cell_type": "code",
      "source": [
        "from google.colab import drive\n",
        "drive.mount('/content/drive')"
      ],
      "metadata": {
        "colab": {
          "base_uri": "https://localhost:8080/"
        },
        "id": "dD1dLGyZe8AK",
        "outputId": "aed14cbb-1f8d-41ef-e600-4d77c8254e66"
      },
      "execution_count": 83,
      "outputs": [
        {
          "output_type": "stream",
          "name": "stdout",
          "text": [
            "Drive already mounted at /content/drive; to attempt to forcibly remount, call drive.mount(\"/content/drive\", force_remount=True).\n"
          ]
        }
      ]
    },
    {
      "cell_type": "code",
      "source": [
        "from pypdf import PdfReader"
      ],
      "metadata": {
        "id": "Unx1bHAPfG6m"
      },
      "execution_count": 85,
      "outputs": []
    },
    {
      "cell_type": "code",
      "source": [
        "caminho = '/content/drive/MyDrive/Colab Notebooks/OpenJournalSystems/trabalhos_em_pdf/'\n",
        "raiz = caminho + 'Ciências Biológicas e da Saúde/'\n",
        "arq = os.listdir(raiz)[0]\n",
        "completo = raiz + arq\n"
      ],
      "metadata": {
        "id": "AqgdGnUwfQ3S"
      },
      "execution_count": null,
      "outputs": []
    },
    {
      "cell_type": "code",
      "source": [
        "reader = PdfReader(completo)\n",
        "page = reader.pages[1]"
      ],
      "metadata": {
        "id": "8cQRe7VDfwF2"
      },
      "execution_count": 91,
      "outputs": []
    },
    {
      "cell_type": "code",
      "source": [
        "# extract only text oriented up\n",
        "print(page.extract_text(0))\n",
        "\n"
      ],
      "metadata": {
        "id": "mHcUFmVztyxD"
      },
      "execution_count": null,
      "outputs": []
    },
    {
      "cell_type": "code",
      "source": [
        "# extract text in a fixed width format that closely adheres to the rendered\n",
        "# layout in the source pdf\n",
        "print(page.extract_text(extraction_mode=\"layout\"))"
      ],
      "metadata": {
        "id": "IHijxQ4DtgjO"
      },
      "execution_count": null,
      "outputs": []
    },
    {
      "cell_type": "code",
      "source": [
        "# extract text preserving horizontal positioning without excess vertical\n",
        "# whitespace (removes blank and \"whitespace only\" lines)\n",
        "print(page.extract_text(extraction_mode=\"layout\", layout_mode_space_vertically=False))"
      ],
      "metadata": {
        "id": "su-9x85OuGq2"
      },
      "execution_count": null,
      "outputs": []
    },
    {
      "cell_type": "code",
      "source": [
        "# adjust horizontal spacing\n",
        "print(page.extract_text(extraction_mode=\"layout\", layout_mode_scale_weight=1.0))"
      ],
      "metadata": {
        "id": "5lPnc1ravxEA"
      },
      "execution_count": null,
      "outputs": []
    },
    {
      "cell_type": "code",
      "source": [
        "# exclude (default) or include (as shown below) text rotated w.r.t. the page\n",
        "print(page.extract_text(extraction_mode=\"layout\", layout_mode_strip_rotated=False))"
      ],
      "metadata": {
        "id": "JjvncchLwPJi",
        "colab": {
          "base_uri": "https://localhost:8080/"
        },
        "outputId": "73ec15e1-155f-443a-bd4c-5c539791e6d8"
      },
      "execution_count": 90,
      "outputs": [
        {
          "output_type": "stream",
          "name": "stdout",
          "text": [
            "     PLANEJAMENTO E DESENVOLVIMENTO DE NOVOS COMPOSTOS DERIVADOS DA\n",
            "       D-GLICOSE COMO REATIVADORES DA ACETILCOLINESTERASE                                              INIBIDA POR\n",
            "                                      PESTICIDAS ORGANOFOSFORADOS\n",
            "\n",
            "                     Larissa Mérici da Silva Inacio1       (IC), Daniel Henriques      Soares Leal (PQ)1\n",
            "\n",
            "                                                 1Universidade Federal de Itajubá\n",
            "\n",
            "\n",
            " Palavras-chave:      Acetilcolinesterase.      Compostos       organofosforados.       Desenvolvimento        de   fármacos.\n",
            " D-glicose. Química computacional\n",
            "\n",
            "                        Introdução                                 AChE    fosforilada  pelas oximas   aconteça  em   duas etapas\n",
            "                                                                   (Figura  2) 1)  Associação   da  oxima  à AChE    inibida; e 2)\n",
            "         A    acetilcolina   (ACh)     (Figura    1)   é   um      Regeneração     da   enzima    por  transferência   do   grupo\n",
            "neurotransmissor   encontrado    no sistema  nervoso   central     fosfato  (ou  semelhante)    para  a oxima.   Então   o  grupo\n",
            "e periférico e a enzima   responsável   por sua  hidrólise nas     amônio    presente   na  pralidoxima   interage   com   o sítio\n",
            "sinapses  colinérgicas  é a  acetilcolinesterase  (AChE).   A      aniônico   da AChE    fosforilada,  aproximando     os átomos\n",
            "ação  da  acetilcolina  está diretamente    ligada  a funções      de   oxigênio   do   antídoto  (nucleofílico)   e  fósforo   da\n",
            "como regular o sono, a memória e o aprendizado.                    enzima   inibida.  O  ataque  nucleofílico  resultante  leva  à\n",
            "                                                                   quebra   da  ligação  fosfoéster, regenerando    a AChE    por\n",
            "                                                                   transesterificação\n",
            "\n",
            "\n",
            "\n",
            "Figura 1 – Estrutura da Acetilcolina\n",
            "\n",
            "         Compostos    inibidores  da  acetilcolinesterase  são     Figura   2 - Reação    de  reativação  da  AChE    fosforilada\n",
            "classificados  em   a)  reversíveis:  não   formam     ligação     por oximas.\n",
            "covalente   ou,   quando    formam,    geram    ainda   assim\n",
            "intermediários   facilmente  hidrolisáveis   que  permitem   a              O  objetivo  do  trabalho  é desenvolver   estruturas\n",
            "regeneração   da enzima   e são  aplicados  ao tratamento   de     derivadas    da   D-glicose    (Figura   3)   com    foco   na\n",
            "doenças    como     Alzheimer      e   Parkinson);     ou   b)     reativação     da     AChE       inibida    por    compostos\n",
            "irreversíveis: formam     ligações  covalentes   com   o  sítio    organofosforados.       Levou-se     em     consideração      a\n",
            "ativo da  AChE    formando   ésteres  do ácido  fosfônico   ou     necessidade     geral   de    desenvolvimento      de    novos\n",
            "fosfórico  com  o  sítio ativo e que  são  mais  resistentes à     compostos    para  cura  ou  tratamento  de  doenças   para  as\n",
            "hidrólise regenerativa   da  enzima  (processo   denominado        quais ainda não existam recursos terapêuticos eficazes.\n",
            "de   envelhecimento       da   acetilcolinesterase),    sendo\n",
            "utilizados  como    pesticidas   agrícolas,  reguladores    do\n",
            "crescimento de plantas e armas químicas.\n",
            "         A  pralidoxima    é  um   fármaco   empregado     em\n",
            "situações  de exposição   da  AChE   inibida  por  compostos\n",
            "irreversíveis, porém   sua  eficiência é pequena,   visto que\n",
            "só apresenta   resultados  suficientes  até poucas   horas  do\n",
            "início do  processo  de  envelhecimento    da  AChE.   O  fato\n",
            "que  faz a pralidoxima    ser aplicada  é  a presença   de um\n",
            "grupo   oxima,   que   se  liga  covalentemente      à  AChE\n",
            "inibida  e  promove     a  remoção    do  grupo   fosfato.  A\n",
            "literatura aponta   que  a  reação   geral da  reativação   da     Figura 3 - Estrutura da   D-glicose\n"
          ]
        }
      ]
    }
  ]
}