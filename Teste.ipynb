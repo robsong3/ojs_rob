{
  "nbformat": 4,
  "nbformat_minor": 0,
  "metadata": {
    "colab": {
      "provenance": [],
      "mount_file_id": "14bzxnuuE_bO8JopYQ4vir5ycLsahP2Vy",
      "authorship_tag": "ABX9TyMW5tLfvmax/16Brfgn831/",
      "include_colab_link": true
    },
    "kernelspec": {
      "name": "python3",
      "display_name": "Python 3"
    },
    "language_info": {
      "name": "python"
    }
  },
  "cells": [
    {
      "cell_type": "markdown",
      "metadata": {
        "id": "view-in-github",
        "colab_type": "text"
      },
      "source": [
        "<a href=\"https://colab.research.google.com/github/robsong3/ojs_rob/blob/main/Teste.ipynb\" target=\"_parent\"><img src=\"https://colab.research.google.com/assets/colab-badge.svg\" alt=\"Open In Colab\"/></a>"
      ]
    },
    {
      "cell_type": "markdown",
      "source": [
        "##Site oficial: [Documentação pypdf](https://pypdf.readthedocs.io/en/stable/user/installation.html)\n",
        "\n",
        "\n"
      ],
      "metadata": {
        "id": "8PYdpq9rZ1Gw"
      }
    },
    {
      "cell_type": "code",
      "source": [
        "!python --version"
      ],
      "metadata": {
        "colab": {
          "base_uri": "https://localhost:8080/"
        },
        "id": "SawcWuQZazP8",
        "outputId": "23dd2024-067b-4684-f17e-1cd027a63bf8"
      },
      "execution_count": 2,
      "outputs": [
        {
          "output_type": "stream",
          "name": "stdout",
          "text": [
            "Python 3.10.12\n"
          ]
        }
      ]
    },
    {
      "cell_type": "markdown",
      "source": [],
      "metadata": {
        "id": "EhDkh0ZfRH5u"
      }
    },
    {
      "cell_type": "code",
      "source": [
        "pip install pypdf"
      ],
      "metadata": {
        "colab": {
          "base_uri": "https://localhost:8080/"
        },
        "id": "ZMqmse7uaOun",
        "outputId": "a6ccc518-c6b0-4781-eeab-c9e2139391b7"
      },
      "execution_count": 3,
      "outputs": [
        {
          "output_type": "stream",
          "name": "stdout",
          "text": [
            "Collecting pypdf\n",
            "  Downloading pypdf-4.1.0-py3-none-any.whl (286 kB)\n",
            "\u001b[?25l     \u001b[90m━━━━━━━━━━━━━━━━━━━━━━━━━━━━━━━━━━━━━━━━\u001b[0m \u001b[32m0.0/286.1 kB\u001b[0m \u001b[31m?\u001b[0m eta \u001b[36m-:--:--\u001b[0m\r\u001b[2K     \u001b[91m━━━━━━━━\u001b[0m\u001b[91m╸\u001b[0m\u001b[90m━━━━━━━━━━━━━━━━━━━━━━━━━━━━━━━\u001b[0m \u001b[32m61.4/286.1 kB\u001b[0m \u001b[31m1.6 MB/s\u001b[0m eta \u001b[36m0:00:01\u001b[0m\r\u001b[2K     \u001b[90m━━━━━━━━━━━━━━━━━━━━━━━━━━━━━━━━━━━━━━━━\u001b[0m \u001b[32m286.1/286.1 kB\u001b[0m \u001b[31m4.0 MB/s\u001b[0m eta \u001b[36m0:00:00\u001b[0m\n",
            "\u001b[?25hInstalling collected packages: pypdf\n",
            "Successfully installed pypdf-4.1.0\n"
          ]
        }
      ]
    },
    {
      "cell_type": "code",
      "source": [
        "import os\n",
        "import pypdf"
      ],
      "metadata": {
        "id": "tV_b5Ipvalug"
      },
      "execution_count": 4,
      "outputs": []
    },
    {
      "cell_type": "markdown",
      "source": [
        "### Conectar no GDrive\n",
        "\n"
      ],
      "metadata": {
        "id": "0VaN41LXq9KA"
      }
    },
    {
      "cell_type": "code",
      "source": [
        "from google.colab import drive\n",
        "drive.mount('/content/drive')"
      ],
      "metadata": {
        "colab": {
          "base_uri": "https://localhost:8080/"
        },
        "id": "dD1dLGyZe8AK",
        "outputId": "f20f5585-1ee5-423c-82a4-42750e8e7e47"
      },
      "execution_count": 7,
      "outputs": [
        {
          "output_type": "stream",
          "name": "stdout",
          "text": [
            "Drive already mounted at /content/drive; to attempt to forcibly remount, call drive.mount(\"/content/drive\", force_remount=True).\n"
          ]
        }
      ]
    },
    {
      "cell_type": "code",
      "source": [
        "from pypdf import PdfReader\n",
        "caminho = '/content/drive/MyDrive/Colab Notebooks/OpenJournalSystems/trabalhos_em_pdf/'\n",
        "raiz = caminho + 'Ciências Biológicas e da Saúde/'\n",
        "arq = os.listdir(raiz)[1]\n",
        "completo = raiz + arq"
      ],
      "metadata": {
        "id": "AqgdGnUwfQ3S"
      },
      "execution_count": 34,
      "outputs": []
    },
    {
      "cell_type": "code",
      "source": [
        "reader = PdfReader(completo)\n",
        "page = reader.pages[0]"
      ],
      "metadata": {
        "id": "8cQRe7VDfwF2"
      },
      "execution_count": 35,
      "outputs": []
    },
    {
      "cell_type": "code",
      "source": [
        "# extract only text oriented up\n",
        "print(page.extract_text(0))"
      ],
      "metadata": {
        "id": "mHcUFmVztyxD"
      },
      "execution_count": null,
      "outputs": []
    },
    {
      "cell_type": "markdown",
      "source": [
        "\n",
        "\n",
        "---\n"
      ],
      "metadata": {
        "id": "6QBQF5OOSEVJ"
      }
    },
    {
      "cell_type": "code",
      "source": [
        "# extract text in a fixed width format that closely adheres to the rendered\n",
        "# layout in the source pdf\n",
        "print(page.extract_text(extraction_mode=\"layout\"))"
      ],
      "metadata": {
        "id": "IHijxQ4DtgjO",
        "colab": {
          "base_uri": "https://localhost:8080/"
        },
        "outputId": "9cbb41c5-4b50-4bbb-cfd7-98ad59b0e33d"
      },
      "execution_count": 37,
      "outputs": [
        {
          "output_type": "stream",
          "name": "stdout",
          "text": [
            "                                                            TÍTULO\n",
            "      Lipossomas multifuncionais: estratégia terapêutica seletiva do cancêr                                                                                        através da técnica de\n",
            "                                              hipertemina magnética fluida.\n",
            "\n",
            "                              Maria Alice Brangion Silva (IC), Daniel Cristian (PQ)1\n",
            "\n",
            "\n",
            "                                                   Universidade Federal De Itajubá\n",
            "\n",
            "     Orientações: Maria A. B. Silva (IC), Daniel Cristin (PQ), Daniel Bragança (PQ), Nadia Leão (PQ).\n",
            "                                              1Universidade Federal de Itajubá.\n",
            "\n",
            "\n",
            "\n",
            " Palavras-chave:     cultivo celular, lipossomas, citometria     de fluxo, lupeol.\n",
            "\n",
            "                        Introdução\n",
            "                                                                                             Metodologia\n",
            "Mesmo     diante    dos   avanços     nas   terapias   para   o\n",
            "tratamento    do  câncer,   ainda   infelizmente    a  maioria       Lipossomas    em   branco   (TSL-BLK)     ou  carregados   com\n",
            "dessas  terapias  apresentam     muitos   efeitos colaterais   e     lupeol   (TSL-LUP)      foram    preparados    com    base   no\n",
            "sua aplicação   é limitada  pela  resistência  ao tratamento   e     método   de hidratação   lipídica, descrito pela  primeira  vez\n",
            "recorrência  da  doença.  Portanto,   um  novo   medicamento         por   Bangham       et   al.  (BANGHAM;          STANDISH;\n",
            "ou  um   novo    sistema   de  liberação   de  medicamentos          WATKINS,      1965).  Resumidamente,      2,25  mL   de  DPPC\n",
            "poderá  trazer  novas   perspectivas  para  os  pacientes  com       30  mM,    0,6   mL   de   DSPC    20   mM    e  0,15   mL   de\n",
            "câncer.                                                              DSPE-PEG2000        10  mM,    dissolvidos   em   clorofórmio,\n",
            "Quando     se  fala   em   potenciais    substâncias    para   o     foram   transferidos   para  um   frasco  de   fundo   redondo\n",
            "tratamento   do  câncer   destaca-se   o lupeol.  Nas   últimas      totalizando  uma    concentração    lipídica total  de 40  mM\n",
            "décadas,  numerosos     estudos  confirmaram     que  o  lupeol      (razão  molar   de  7,5  :  2,0  : 0,5,  respectivamente).    O\n",
            "desempenha      um   papel   antitumoral    significativo    em      equivalente   de  lupeol  a 0,1%   (p/v)  ou  0,05%   (p/v)  foi\n",
            "várias  linhagens    de  células   tumorais    e  modelos    de      adicionado    à  solução   lipídica.  Um   filme   lipídico  foi\n",
            "câncer.  Estudos   recentes   sugerem    que   uma   forma   de      preparado   por  evaporação    do   clorofórmio   sob   pressão\n",
            "otimizar    os    efeitos    do    lupeol    é    através    do      reduzida  em   um  aparelho   rotativo.  Na  etapa  seguinte,  o\n",
            "encapsulamento    com   lipossoma,   conhecido   um   potencial      filme  lipídico   foi hidratado   com    3,0  mL   de  solução\n",
            "carreador         para        agentes         quimioterápicos        salina tampão   fosfato  (PBS),   pH  7,4. A dispersão   obtida\n",
            "anticancerígenos.     Nesse    trabalho    foi  avaliado    por      foi   submetida     a   agitação     vigorosa    em    vórtice,\n",
            "citometria   de  fluxo   o  efeito  citotóxico   do  composto        produzindo     lipossomas    multilamelares.     As   vesículas\n",
            "lupeol carreador   por  lipossomas   (TLS-LUP)     in vitro em       multilamelares    resultantes  foram   calibradas  usando   um\n",
            "células A549 E MDA-MB 231.                                           kit  Mini-Extrusor      (Avanti,    São    Paulo,   Brasil)    e\n",
            "                                                                     membranas     de policarbonato    (200  nm)   nas quais  foram\n",
            "                                                                     realizados  5  ciclos de  extrusão.  O  lupeol  não  carregado\n",
            "                                                                     foi separado    por  diálise.  Para  este  procedimento,    um\n",
            "                                                                     volume   de 10  mL   de lipossomas   foi pesado   e adicionado\n",
            "                                                                     dentro     de    saco     de     membrana       de     celulose\n",
            "                                                                     (Sigma-Aldrich,    cut  off 12  kDa   ;São   Paulo,  Brasil). O\n",
            "                                                                     sistema  foi agitado   em  2.000  mL   de  água  ultrapura  por\n",
            "                                                                     48h   à  temperatura    ambiente.    Na   sequência,    todo   o\n",
            "                                                                     conteúdo   do   saco  foi  retirado  e  pesado   em   que  uma\n",
            "Figura.1 Sistema representativo dos lipossomas.                      solução  tampão   PBS   (pH   7,4) foi adicionada   até obter  o\n",
            "(NSAIRAT et al., 2022)                                               mesmo      peso    antes   do    processo     de   diálise.   A\n",
            "                                                                     concentração    de  lupeol   foi medida    por  cromatografia\n"
          ]
        }
      ]
    },
    {
      "cell_type": "code",
      "source": [
        "# extract text preserving horizontal positioning without excess vertical\n",
        "# whitespace (removes blank and \"whitespace only\" lines)\n",
        "print(page.extract_text(extraction_mode='layout', layout_mode_space_vertically=False))"
      ],
      "metadata": {
        "id": "su-9x85OuGq2",
        "colab": {
          "base_uri": "https://localhost:8080/"
        },
        "outputId": "16b898ef-48b3-4d4b-efe9-4882fd79dbb7"
      },
      "execution_count": 30,
      "outputs": [
        {
          "output_type": "stream",
          "name": "stdout",
          "text": [
            "O efeito  citotóxico  do  TLS-LUP     40μg/ml   e 60μg/ml   foi\n",
            "também       avaliado      em      células     MDA-MB231.                                    Conclusões\n",
            "Inicialmente    podemos      observar     que   o   composto\n",
            "TLS-LUP      40μg/ml    apresentou    um    efeito  citotóxico      Em    concordância     com   outros   artigos  científicos,  no\n",
            "menos   significativo  nesse  modelo    quando   comparado    a     presente    trabalho   a  detecção    da  morte    celular  por\n",
            "população    de   células   viáveis  (mortes    por  apoptose       citometria   de fluxo  demonstrou     ser um   método   de  alta\n",
            "precoce  37,74%    e por  apoptose   tardia 7,85%    e 54,39%       confiabilidade     para    revelar   os    potenciais    efeitos\n",
            "respectivamente)                                                    citotóxicos  de  produtos   naturais ou  compostos   sintéticos\n",
            "(figura 4 e 5 ).                                                    (MCKINNON, 2018b; PICOT et al., 2012b).\n",
            "                                                                    Em   relação  os  efeitos citotóxicos   do  TLS-LUP,    nossos\n",
            "                                                                    resultados   estão em   linha  com   atuais pesquisas   como   a\n",
            "                                                                    de   Zang    e   colaboradores,     que   observaram     maior\n",
            "                                                                    captação        de       lupeol        encapsulado         com\n",
            "                                                                    lipossoma-galactose     nas células  HepG2    como   também    o\n",
            "                                                                    tratamento     com    esse   composto      apresentou    maior\n",
            "                                                                    eficiência  apoptótica   quando   comparado    ao  lupeol  livre\n",
            "                                                                    (ZHANG et al., 2021).\n",
            "                                                                    Dessa    forma,    neste   presente   estudo,    temos    como\n",
            "                                                                    objetivo   prosseguir   investigando    os  mecanismos      que\n",
            "                                                                    levaram     à  morte    as   linhagens    celulares   A549     e\n",
            "                                                                    MDA-MB231.\n",
            "                                                                                          Agradecimento\n",
            "Figura 4 –  Concentração de TLS-LUP 60μg/ml                         Obrigada   pelo  o apoio  neste  projeto CNPQ,    orientadores\n",
            "em linhagem celular MDA-MD 23.                                      Daniel Cristian, Nádia Leão.\n",
            "A concentração    de TLS-LUP     60μg/ml   induziu  morte   por                             Referências\n",
            "apoptose   precoce   em  22,26%    da  população    e  40,34%\n",
            "dessas  morreram     por  apoptose    tardia.  Sugerindo    um      BANGHAM,          A.   D.  D.;   STANDISH,        M.   M.   M.;\n",
            "maior   efeito citotóxico   da  concentração    de  TLS-LUP         WATKINS,      J. C.  C. Diffusion   of  univalent  ions  across\n",
            "60μg/ml    nesse   modelo    celular  quando    comparado     a     the   lamellae   of   swollen   phospholipids.    Journal     of\n",
            "TLS-LUP     40μg/ml.                                                molecular biology, v. 13, n. 1, p. 238–52, 1 ago.       1965.\n",
            "                                                                    PICOT,     J.  et   al.   Flow    cytometry:    Retrospective,\n",
            "                                                                    fundamentals          and       recent        instrumentation.\n",
            "                                                                    Cytotechnology, mar. 2012a.\n",
            "                                                                    ZHANG,     J. et al.In  vitro and  in vivo antitumor  effects of\n",
            "                                                                    lupeol-loaded  galactosylated liposomes.  Drug  Delivery, v. 28,\n",
            "                                                                    n. 1, p. 709–718, 2021.\n",
            "Figura 5 –  Concentração de TLS-LUP 60μg/ml\n",
            "em linhagem celular MDA-MD 231.\n"
          ]
        }
      ]
    },
    {
      "cell_type": "code",
      "source": [
        "# exclude (default) or include (as shown below) text rotated w.r.t. the page\n",
        "print(page.extract_text(extraction_mode=\"layout\", layout_mode_strip_rotated=False))"
      ],
      "metadata": {
        "id": "JjvncchLwPJi",
        "colab": {
          "base_uri": "https://localhost:8080/"
        },
        "outputId": "241b768f-1b39-47b4-ac8c-510b9578eb3a"
      },
      "execution_count": null,
      "outputs": [
        {
          "output_type": "stream",
          "name": "stdout",
          "text": [
            "         SÍNTESE E CARACTERIZAÇÃO DE COMPOSTOS ORGÂNICOS ANÁLOGOS AO\n",
            "                      GERANIOL COM POTENCIAL ATIVIDADE ANTINEOPLÁSICA\n",
            "\n",
            "                             Carolina Martinez Bonora1 (IC), Mauricio Frota Saraiva (PQ)1\n",
            "\n",
            "                                                 1Universidade Federal de Itajubá (UNIFEI)\n",
            "\n",
            " Palavras-chave: Câncer. Terpenos. Geraniol. Síntese. Caracterização.\n",
            "\n",
            "                          Introdução                                     anti-inflamatória,            antiviral,            antibacteriana,\n",
            "                                                                         anticancerígena, dentre outras       (SÁ et al., 2021). Como\n",
            "         O câncer consiste em uma doença decorrente do                   exemplo de tais compostos  tem-se o geraniol, um álcool\n",
            "crescimento desordenado de células anormais as quais, a                  monoterpênico  acíclico  cuja  atividade  anticancerígena\n",
            "princípio  saudáveis,  podem  se  dirigir  a  outro  tecido              fora comprovada em diversas pesquisas realizadas ao\n",
            "diferente  do  de  origem,      quadro  esse  que  consiste  o           longo dos anos para vários tipos de tumores (CHO et al.,\n",
            "fenômeno     de metástase (WHO, 2022). O processo de                     2016).   Ademais,  o  geraniol  é  classificado  como  um\n",
            "carcinogênese,  em  que  células   normais   se   tornam                 composto seguro pela        Food and Drug Administration\n",
            "cancerosas,   é   ocasionado        por   alterações   genéticas         (FDA),  agência  norte-americana,  contando,  também\n",
            "(INCA, 2022a)      as quais podem ser decorrentes de um                  com outros atrativos, como a ação sinérgica com outros\n",
            "pré-disposição genética do        indivíduo ou da exposição              compostos,         inclusive         com         medicamentos\n",
            "desse a fatores externos, como, por exemplo, tabagismo                   quimioterápicos, e aplicações terapêuticas variadas.\n",
            "e radiações ionizantes (WHO, 2022).                                               Assim,  mediante  a  eficácia  parcial  e  efeitos\n",
            "         O câncer apresenta-se há muito tempo como um                    colaterais oriundos dos tratamentos convencionais para\n",
            "dos principais problemas de saúde em            âmbito mundial,          o câncer e, por outro lado, mediante a abundância de\n",
            "de modo a envolver milhões de novos casos a cada ano                     recursos naturais, a atividade eficaz e específica de seus\n",
            "dos quais, então, decorrem inúmeros óbitos (SUNG et                      compostos  e  o     amplo  potencial  terapêutico       desses,  o\n",
            "al.,  2021).  Assim,  ao  longo  do  tempo,  buscou-se                   desenvolvimento de análogos a tais compostos, como o\n",
            "desenvolver  práticas  terapêuticas  para  o  combate  à                 geraniol,       como        possíveis       novos       fármacos\n",
            "doença, de modo que hoje essas abordam três vertentes:                   quimioterápicos    apresenta-se   como   uma   proposta\n",
            "cirurgia,  radioterapia  e  quimioterapia  (INCA,  2011).                extremamente  promissora.          Desse  modo,  a  presente\n",
            "Todavia,  apesar  dessas  terem  apresentado            resultados       pesquisa visou à síntese de seis compostos análogos ao\n",
            "positivos  desde  seu  estabelecimento,  tais  tratamentos               geraniol, com potencial atividade antineoplásica.\n",
            "não  apresentam  uma  eficácia  certeira.  Esse  quadro\n",
            "decorre da complexidade do câncer, da progressão da                                               Metodologia\n",
            "doença e de seus diferentes tipos e modos de ação no\n",
            "organismo. Além do que, a propensão de suscitar efeitos                           De modo geral, o desenvolvimento da presente\n",
            "colaterais mediante tais tratamentos é alta.                             pesquisa   envolveu   cinco   etapas-padrão:   reação   de\n",
            "         Nos   últimos   anos         a   fitoterapia   vem   se         síntese,      extração,      evaporação,      purificação      e\n",
            "apresentando  como  uma  área  promissora,  de  modo  a                  caracterização.  Em  todos  os  casos,  a  primeira  etapa\n",
            "ganhar o interesse do ramo farmacêutico. Tal área busca                  demandou uma primeira reação padrão, da qual provém\n",
            "estudar atividades terapêuticas exercidas por compostos                  o   composto   intermediário,   Brometo   de   Geranila,\n",
            "naturais oriundos de plantas (SÁ et al., 2021). Esses                    utilizado nas reações seguintes, ou seja, tal composto é\n",
            "compostos   envolvem,   na   maioria   das   vezes,   os                 ponto de partida comum para todas as sínteses. Essas\n",
            "metabólitos secundários de vegetais os quais comportam                   envolveram três reagentes distintos, a dietanolamina, a\n",
            "três classes: compostos fenólicos, alcaloides e terpenos                 3-amino-1,2-propanodiol e a trietanolamina, sendo que\n",
            "(MOREIRA, 2013).                                                         o  uso   direto    desses   culminou  na  formação  de  três\n",
            "         Os     terpenos     consistem     nos     principais            compostos: 1a, 1b e 1c, respectivamente. A partir do\n",
            "componentes  de  óleos  essenciais  de  plantas,  sendo                  composto 1a, foram realizadas outras duas reações para\n",
            "responsáveis  pelo  aroma  característico  desses.  Mas,                 a  formação  de  seus  derivados:  o  composto  2a,  que\n",
            "além disso, ao longo dos anos demonstraram apresentar                    consiste em  um intermediário, e o composto 3a. Por\n",
            "um  vasto  leque  de  propriedades  terapêuticas,  como:                 outro lado, a partir do composto 1b, outra reação fora\n"
          ]
        }
      ]
    },
    {
      "cell_type": "code",
      "source": [
        "# adjust horizontal spacing\n",
        "print(page.extract_text(extraction_mode=\"layout\", layout_mode_scale_weight=1.0))"
      ],
      "metadata": {
        "id": "5lPnc1ravxEA",
        "colab": {
          "base_uri": "https://localhost:8080/"
        },
        "outputId": "826a42b6-14f1-49e8-f363-6e7e0d33d6d1"
      },
      "execution_count": null,
      "outputs": [
        {
          "output_type": "stream",
          "name": "stdout",
          "text": [
            "       SÍNTESE E CARACTERIZAÇÃO DE COMPOSTOS ORGÂNICOS ANÁLOGOS AO\n",
            "                 GERANIOL COM POTENCIAL ATIVIDADE ANTINEOPLÁSICA\n",
            "\n",
            "                       Carolina Martinez Bonora1 (IC), Mauricio Frota Saraiva (PQ)1\n",
            "\n",
            "                                       1Universidade Federal de Itajubá (UNIFEI)\n",
            "\n",
            " Palavras-chave: Câncer. Terpenos. Geraniol. Síntese. Caracterização.\n",
            "\n",
            "                     Introdução                           anti-inflamatória,            antiviral,            antibacteriana,\n",
            "                                                          anticancerígena, dentre outras (SÁ et al., 2021). Como\n",
            "       O câncer consiste em uma doença decorrente do      exemplo de tais compostos  tem-se o geraniol, um álcool\n",
            "crescimento desordenado de células anormais as quais, a   monoterpênico  acíclico  cuja  atividade  anticancerígena\n",
            "princípio  saudáveis,  podem  se  dirigir  a  outro  tecido fora comprovada em diversas pesquisas realizadas ao\n",
            "diferente  do  de  origem, quadro  esse  que  consiste  o longo dos anos para vários tipos de tumores (CHO et al.,\n",
            "fenômeno  de metástase (WHO, 2022). O processo de         2016).  Ademais,  o  geraniol  é  classificado  como  um\n",
            "carcinogênese,  em  que  células   normais   se   tornam  composto seguro pela   Food and Drug Administration\n",
            "cancerosas,   é   ocasionado por  alterações   genéticas  (FDA),  agência  norte-americana,  contando,  também\n",
            "(INCA, 2022a)  as quais podem ser decorrentes de um       com outros atrativos, como a ação sinérgica com outros\n",
            "pré-disposição genética do indivíduo ou da exposição      compostos,         inclusive         com         medicamentos\n",
            "desse a fatores externos, como, por exemplo, tabagismo    quimioterápicos, e aplicações terapêuticas variadas.\n",
            "e radiações ionizantes (WHO, 2022).                               Assim,  mediante  a  eficácia  parcial  e  efeitos\n",
            "       O câncer apresenta-se há muito tempo como um       colaterais oriundos dos tratamentos convencionais para\n",
            "dos principais problemas de saúde em  âmbito mundial,     o câncer e, por outro lado, mediante a abundância de\n",
            "de modo a envolver milhões de novos casos a cada ano      recursos naturais, a atividade eficaz e específica de seus\n",
            "dos quais, então, decorrem inúmeros óbitos (SUNG et       compostos  e  o amplo  potencial  terapêutico desses,  o\n",
            "al.,  2021).  Assim,  ao  longo  do  tempo,  buscou-se    desenvolvimento de análogos a tais compostos, como o\n",
            "desenvolver  práticas  terapêuticas  para  o  combate  à  geraniol,       como   possíveis       novos       fármacos\n",
            "doença, de modo que hoje essas abordam três vertentes:    quimioterápicos    apresenta-se   como   uma   proposta\n",
            "cirurgia,  radioterapia  e  quimioterapia  (INCA,  2011). extremamente  promissora.   Desse  modo,  a  presente\n",
            "Todavia,  apesar  dessas  terem  apresentado resultados   pesquisa visou à síntese de seis compostos análogos ao\n",
            "positivos  desde  seu  estabelecimento,  tais  tratamentos geraniol, com potencial atividade antineoplásica.\n",
            "não  apresentam  uma  eficácia  certeira.  Esse  quadro\n",
            "decorre da complexidade do câncer, da progressão da                           Metodologia\n",
            "doença e de seus diferentes tipos e modos de ação no\n",
            "organismo. Além do que, a propensão de suscitar efeitos           De modo geral, o desenvolvimento da presente\n",
            "colaterais mediante tais tratamentos é alta.              pesquisa   envolveu   cinco   etapas-padrão:   reação   de\n",
            "       Nos   últimos   anos   a   fitoterapia   vem   se  síntese,      extração,      evaporação,      purificação      e\n",
            "apresentando  como  uma  área  promissora,  de  modo  a   caracterização.  Em  todos  os  casos,  a  primeira  etapa\n",
            "ganhar o interesse do ramo farmacêutico. Tal área busca   demandou uma primeira reação padrão, da qual provém\n",
            "estudar atividades terapêuticas exercidas por compostos   o   composto   intermediário,   Brometo   de   Geranila,\n",
            "naturais oriundos de plantas (SÁ et al., 2021). Esses     utilizado nas reações seguintes, ou seja, tal composto é\n",
            "compostos   envolvem,   na   maioria   das   vezes,   os  ponto de partida comum para todas as sínteses. Essas\n",
            "metabólitos secundários de vegetais os quais comportam    envolveram três reagentes distintos, a dietanolamina, a\n",
            "três classes: compostos fenólicos, alcaloides e terpenos  3-amino-1,2-propanodiol e a trietanolamina, sendo que\n",
            "(MOREIRA, 2013).                                          o  uso direto   desses culminou  na  formação  de  três\n",
            "       Os     terpenos     consistem     nos     principais compostos: 1a, 1b e 1c, respectivamente. A partir do\n",
            "componentes  de  óleos  essenciais  de  plantas,  sendo   composto 1a, foram realizadas outras duas reações para\n",
            "responsáveis  pelo  aroma  característico  desses.  Mas,  a  formação  de  seus  derivados:  o  composto  2a,  que\n",
            "além disso, ao longo dos anos demonstraram apresentar     consiste em  um intermediário, e o composto 3a. Por\n",
            "um  vasto  leque  de  propriedades  terapêuticas,  como:  outro lado, a partir do composto 1b, outra reação fora\n"
          ]
        }
      ]
    }
  ]
}