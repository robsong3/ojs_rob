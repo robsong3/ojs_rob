{
  "nbformat": 4,
  "nbformat_minor": 0,
  "metadata": {
    "colab": {
      "provenance": [],
      "mount_file_id": "14bzxnuuE_bO8JopYQ4vir5ycLsahP2Vy",
      "authorship_tag": "ABX9TyMTllhI5/D16QFm7TeyfA8H",
      "include_colab_link": true
    },
    "kernelspec": {
      "name": "python3",
      "display_name": "Python 3"
    },
    "language_info": {
      "name": "python"
    }
  },
  "cells": [
    {
      "cell_type": "markdown",
      "metadata": {
        "id": "view-in-github",
        "colab_type": "text"
      },
      "source": [
        "<a href=\"https://colab.research.google.com/github/robsong3/ojs_rob/blob/main/Teste5.ipynb\" target=\"_parent\"><img src=\"https://colab.research.google.com/assets/colab-badge.svg\" alt=\"Open In Colab\"/></a>"
      ]
    },
    {
      "cell_type": "markdown",
      "source": [
        "##Site oficial: [Documentação pypdf](https://pypdf.readthedocs.io/en/stable/user/installation.html)\n",
        "\n",
        "\n"
      ],
      "metadata": {
        "id": "8PYdpq9rZ1Gw"
      }
    },
    {
      "cell_type": "code",
      "source": [
        "!python --version"
      ],
      "metadata": {
        "id": "SawcWuQZazP8",
        "colab": {
          "base_uri": "https://localhost:8080/"
        },
        "outputId": "cc01e2cf-0749-4529-dfad-874b43a80fb5"
      },
      "execution_count": null,
      "outputs": [
        {
          "output_type": "stream",
          "name": "stdout",
          "text": [
            "Python 3.10.12\n"
          ]
        }
      ]
    },
    {
      "cell_type": "code",
      "source": [
        "pip install pypdf"
      ],
      "metadata": {
        "colab": {
          "base_uri": "https://localhost:8080/"
        },
        "id": "ZMqmse7uaOun",
        "outputId": "8d696658-f290-4982-f3ef-d2b2ecee9763"
      },
      "execution_count": null,
      "outputs": [
        {
          "output_type": "stream",
          "name": "stdout",
          "text": [
            "Collecting pypdf\n",
            "  Downloading pypdf-4.2.0-py3-none-any.whl (290 kB)\n",
            "\u001b[2K     \u001b[90m━━━━━━━━━━━━━━━━━━━━━━━━━━━━━━━━━━━━━━━━\u001b[0m \u001b[32m290.4/290.4 kB\u001b[0m \u001b[31m3.7 MB/s\u001b[0m eta \u001b[36m0:00:00\u001b[0m\n",
            "\u001b[?25hRequirement already satisfied: typing_extensions>=4.0 in /usr/local/lib/python3.10/dist-packages (from pypdf) (4.11.0)\n",
            "Installing collected packages: pypdf\n",
            "Successfully installed pypdf-4.2.0\n"
          ]
        }
      ]
    },
    {
      "cell_type": "code",
      "source": [
        "import os\n",
        "import pypdf\n",
        "import math"
      ],
      "metadata": {
        "id": "tV_b5Ipvalug"
      },
      "execution_count": null,
      "outputs": []
    },
    {
      "cell_type": "code",
      "source": [
        "from copy import copy"
      ],
      "metadata": {
        "id": "U6KQRBQUZALZ"
      },
      "execution_count": null,
      "outputs": []
    },
    {
      "cell_type": "markdown",
      "source": [
        "### Conectar no GDrive\n",
        "\n"
      ],
      "metadata": {
        "id": "0VaN41LXq9KA"
      }
    },
    {
      "cell_type": "code",
      "source": [
        "from google.colab import drive\n",
        "drive.mount('/content/drive')"
      ],
      "metadata": {
        "colab": {
          "base_uri": "https://localhost:8080/"
        },
        "id": "dD1dLGyZe8AK",
        "outputId": "c12bd5d4-b08b-44e5-8f42-5d9b6391d8a5"
      },
      "execution_count": null,
      "outputs": [
        {
          "output_type": "stream",
          "name": "stdout",
          "text": [
            "Mounted at /content/drive\n"
          ]
        }
      ]
    },
    {
      "cell_type": "code",
      "source": [
        "from pypdf import PdfReader, PdfWriter\n",
        "caminho = '/content/drive/MyDrive/Colab Notebooks/OpenJournalSystems/trabalhos_em_pdf/'\n",
        "raiz = caminho + 'Ciências Biológicas e da Saúde/'\n",
        "arq = os.listdir(raiz)[0]\n",
        "completo = raiz + arq"
      ],
      "metadata": {
        "id": "AqgdGnUwfQ3S"
      },
      "execution_count": null,
      "outputs": []
    },
    {
      "cell_type": "code",
      "source": [
        "with open(completo,'rb') as fin:\n",
        "  reader = PdfReader(completo)\n",
        "  writer = PdfWriter(raiz+\"tmp.pdf\")\n",
        "  for page in reader.pages :\n",
        "    left = copy(page)\n",
        "    left.mediabox.upper_right = (page.mediabox.right/2, page.mediabox.top)\n",
        "    writer.add_page(left)\n",
        "\n",
        "    right = copy(page)\n",
        "    right.mediabox.upper_left = (page.mediabox.right/2, page.mediabox.top)\n",
        "    writer.add_page(right)\n",
        "\n",
        "    with open(raiz+\"tmp.pdf\", \"wb\") as fp:\n",
        "      writer.write(fp)"
      ],
      "metadata": {
        "id": "1gqpWwPl3SNl"
      },
      "execution_count": null,
      "outputs": []
    },
    {
      "cell_type": "code",
      "source": [
        "pdf = PdfReader(raiz+\"tmp.pdf\")\n",
        "for page2 in pdf.pages :\n",
        "  text = page2.extract_text(extraction_mode=\"layout\")\n",
        "  for linha in text.split(\"\\n\") :\n",
        "    print(linha)\n",
        "\n",
        "#  while text.find(\"  \") >= 0 :\n",
        "#    text = text.replace(\"  \", \" \")\n",
        "#  for frase in text.split(\".\") :\n",
        "#    frase = frase.removeprefix(\" \") + \".\"\n",
        "#    print(frase)"
      ],
      "metadata": {
        "colab": {
          "base_uri": "https://localhost:8080/"
        },
        "id": "L-gjjpUkZfZE",
        "outputId": "f892d3ca-48ff-4e18-c0b9-f039505d4a0c"
      },
      "execution_count": null,
      "outputs": [
        {
          "output_type": "stream",
          "name": "stdout",
          "text": [
            "     PLANEJAMENTO E DESENVOLVIMENTO DE NOVOS COMPOSTOS DERIVADOS DA\n",
            "       D-GLICOSE COMO REATIVADORES DA ACETILCOLINESTERASE                                              INIBIDA POR\n",
            "                                      PESTICIDAS ORGANOFOSFORADOS\n",
            "\n",
            "                     Larissa Mérici da Silva Inacio1       (IC), Daniel Henriques      Soares Leal (PQ)1\n",
            "\n",
            "                                                 1Universidade Federal de Itajubá\n",
            "\n",
            "\n",
            " Palavras-chave:      Acetilcolinesterase.      Compostos       organofosforados.       Desenvolvimento        de   fármacos.\n",
            " D-glicose. Química computacional\n",
            "\n",
            "                        Introdução                                 AChE    fosforilada  pelas oximas   aconteça  em   duas etapas\n",
            "                                                                   (Figura  2) 1)  Associação   da  oxima  à AChE    inibida; e 2)\n",
            "         A    acetilcolina   (ACh)     (Figura    1)   é   um      Regeneração     da   enzima    por  transferência   do   grupo\n",
            "neurotransmissor   encontrado    no sistema  nervoso   central     fosfato  (ou  semelhante)    para  a oxima.   Então   o  grupo\n",
            "e periférico e a enzima   responsável   por sua  hidrólise nas     amônio    presente   na  pralidoxima   interage   com   o sítio\n",
            "sinapses  colinérgicas  é a  acetilcolinesterase  (AChE).   A      aniônico   da AChE    fosforilada,  aproximando     os átomos\n",
            "ação  da  acetilcolina  está diretamente    ligada  a funções      de   oxigênio   do   antídoto  (nucleofílico)   e  fósforo   da\n",
            "como regular o sono, a memória e o aprendizado.                    enzima   inibida.  O  ataque  nucleofílico  resultante  leva  à\n",
            "                                                                   quebra   da  ligação  fosfoéster, regenerando    a AChE    por\n",
            "                                                                   transesterificação\n",
            "\n",
            "\n",
            "\n",
            "Figura 1 – Estrutura da Acetilcolina\n",
            "\n",
            "         Compostos    inibidores  da  acetilcolinesterase  são     Figura   2 - Reação    de  reativação  da  AChE    fosforilada\n",
            "classificados  em   a)  reversíveis:  não   formam     ligação     por oximas.\n",
            "covalente   ou,   quando    formam,    geram    ainda   assim\n",
            "intermediários   facilmente  hidrolisáveis   que  permitem   a              O  objetivo  do  trabalho  é desenvolver   estruturas\n",
            "regeneração   da enzima   e são  aplicados  ao tratamento   de     derivadas    da   D-glicose    (Figura   3)   com    foco   na\n",
            "doenças    como     Alzheimer      e   Parkinson);     ou   b)     reativação     da     AChE       inibida    por    compostos\n",
            "irreversíveis: formam     ligações  covalentes   com   o  sítio    organofosforados.       Levou-se     em     consideração      a\n",
            "ativo da  AChE    formando   ésteres  do ácido  fosfônico   ou     necessidade     geral   de    desenvolvimento      de    novos\n",
            "fosfórico  com  o  sítio ativo e que  são  mais  resistentes à     compostos    para  cura  ou  tratamento  de  doenças   para  as\n",
            "hidrólise regenerativa   da  enzima  (processo   denominado        quais ainda não existam recursos terapêuticos eficazes.\n",
            "de   envelhecimento       da   acetilcolinesterase),    sendo\n",
            "utilizados  como    pesticidas   agrícolas,  reguladores    do\n",
            "crescimento de plantas e armas químicas.\n",
            "         A  pralidoxima    é  um   fármaco   empregado     em\n",
            "situações  de exposição   da  AChE   inibida  por  compostos\n",
            "irreversíveis, porém   sua  eficiência é pequena,   visto que\n",
            "só apresenta   resultados  suficientes  até poucas   horas  do\n",
            "início do  processo  de  envelhecimento    da  AChE.   O  fato\n",
            "que  faz a pralidoxima    ser aplicada  é  a presença   de um\n",
            "grupo   oxima,   que   se  liga  covalentemente      à  AChE\n",
            "inibida  e  promove     a  remoção    do  grupo   fosfato.  A\n",
            "literatura aponta   que  a  reação   geral da  reativação   da     Figura 3 - Estrutura da   D-glicose\n",
            "     PLANEJAMENTO E DESENVOLVIMENTO DE NOVOS COMPOSTOS DERIVADOS DA\n",
            "       D-GLICOSE COMO REATIVADORES DA ACETILCOLINESTERASE                                              INIBIDA POR\n",
            "                                      PESTICIDAS ORGANOFOSFORADOS\n",
            "\n",
            "                     Larissa Mérici da Silva Inacio1       (IC), Daniel Henriques      Soares Leal (PQ)1\n",
            "\n",
            "                                                 1Universidade Federal de Itajubá\n",
            "\n",
            "\n",
            " Palavras-chave:      Acetilcolinesterase.      Compostos       organofosforados.       Desenvolvimento        de   fármacos.\n",
            " D-glicose. Química computacional\n",
            "\n",
            "                        Introdução                                 AChE    fosforilada  pelas oximas   aconteça  em   duas etapas\n",
            "                                                                   (Figura  2) 1)  Associação   da  oxima  à AChE    inibida; e 2)\n",
            "         A    acetilcolina   (ACh)     (Figura    1)   é   um      Regeneração     da   enzima    por  transferência   do   grupo\n",
            "neurotransmissor   encontrado    no sistema  nervoso   central     fosfato  (ou  semelhante)    para  a oxima.   Então   o  grupo\n",
            "e periférico e a enzima   responsável   por sua  hidrólise nas     amônio    presente   na  pralidoxima   interage   com   o sítio\n",
            "sinapses  colinérgicas  é a  acetilcolinesterase  (AChE).   A      aniônico   da AChE    fosforilada,  aproximando     os átomos\n",
            "ação  da  acetilcolina  está diretamente    ligada  a funções      de   oxigênio   do   antídoto  (nucleofílico)   e  fósforo   da\n",
            "como regular o sono, a memória e o aprendizado.                    enzima   inibida.  O  ataque  nucleofílico  resultante  leva  à\n",
            "                                                                   quebra   da  ligação  fosfoéster, regenerando    a AChE    por\n",
            "                                                                   transesterificação\n",
            "\n",
            "\n",
            "\n",
            "Figura 1 – Estrutura da Acetilcolina\n",
            "\n",
            "         Compostos    inibidores  da  acetilcolinesterase  são     Figura   2 - Reação    de  reativação  da  AChE    fosforilada\n",
            "classificados  em   a)  reversíveis:  não   formam     ligação     por oximas.\n",
            "covalente   ou,   quando    formam,    geram    ainda   assim\n",
            "intermediários   facilmente  hidrolisáveis   que  permitem   a              O  objetivo  do  trabalho  é desenvolver   estruturas\n",
            "regeneração   da enzima   e são  aplicados  ao tratamento   de     derivadas    da   D-glicose    (Figura   3)   com    foco   na\n",
            "doenças    como     Alzheimer      e   Parkinson);     ou   b)     reativação     da     AChE       inibida    por    compostos\n",
            "irreversíveis: formam     ligações  covalentes   com   o  sítio    organofosforados.       Levou-se     em     consideração      a\n",
            "ativo da  AChE    formando   ésteres  do ácido  fosfônico   ou     necessidade     geral   de    desenvolvimento      de    novos\n",
            "fosfórico  com  o  sítio ativo e que  são  mais  resistentes à     compostos    para  cura  ou  tratamento  de  doenças   para  as\n",
            "hidrólise regenerativa   da  enzima  (processo   denominado        quais ainda não existam recursos terapêuticos eficazes.\n",
            "de   envelhecimento       da   acetilcolinesterase),    sendo\n",
            "utilizados  como    pesticidas   agrícolas,  reguladores    do\n",
            "crescimento de plantas e armas químicas.\n",
            "         A  pralidoxima    é  um   fármaco   empregado     em\n",
            "situações  de exposição   da  AChE   inibida  por  compostos\n",
            "irreversíveis, porém   sua  eficiência é pequena,   visto que\n",
            "só apresenta   resultados  suficientes  até poucas   horas  do\n",
            "início do  processo  de  envelhecimento    da  AChE.   O  fato\n",
            "que  faz a pralidoxima    ser aplicada  é  a presença   de um\n",
            "grupo   oxima,   que   se  liga  covalentemente      à  AChE\n",
            "inibida  e  promove     a  remoção    do  grupo   fosfato.  A\n",
            "literatura aponta   que  a  reação   geral da  reativação   da     Figura 3 - Estrutura da   D-glicose\n",
            "                                                                   (com      caráter    de    grupo      abandonador),       por\n",
            "         O  planejamento     dos  compostos    foi  realizado      substituição     nucleofílica    com    cloreto    de   tosila\n",
            "com  base  na  estrutura da  D-glicose  e das  características     (p-toluenosulfonila)      em    piridina    e   levando     ao\n",
            "necessárias   para  conseguir    reativar  a  AChE.    Foram       intermediário    II.\n",
            "assim desenvolvidos os compostos       GL1,  GL2   e GL3.\n",
            "                       Metodologia                                 A     terceira     etapa    consiste      na    substituição\n",
            "                                                                   nucleofílica   do  grupo   tosilato  pelos  grupos   2-,  3- e\n",
            "A –  Planejamento   dos  compostos:   com   base na  estrutura     4-formilpiridino,      formando-se      os   intermediários\n",
            "da  D-glicose   e   das  características   necessárias   para      III-1,  III-2  e  III-3  respectivamente.      Isto deve   ser\n",
            "conseguir  reativar a AChE   (presença   de um  grupo  oxima       feito  tratando-se    o  intermediário    II  com    2-, 3-  e\n",
            "e  de   uma    carga   positiva),  como    na   estrutura   da     4-formilpiridina, respectivamente.\n",
            "pralidoxima,  foram  concebidos    os compostos   GL1,   GL2\n",
            "eGL3.(Figura 4).                                                   A  quarta   etapa   pode   ser  alcançada    tratando-se    os\n",
            "B   -   Análise    Conformacional:      posteriormente,     as     intermediários       III-1,     III-2     e    III-3     com\n",
            "estruturas  da  GL1,    GL2    e   GL3    foram   construídas      hidroxilamina,         levando-se        aos      compostos\n",
            "tridimensionalmente    a  partir do programa    GaussView®         planejados   GL1,    GL2   e GL3.\n",
            "e salvas no  formato  MOL2.    Após   o processo  de  criação,\n",
            "não  foi possível   realizar  a otimização   dos  compostos\n",
            "devido a dificuldades com o acesso remoto.\n",
            "\n",
            "C  –   Docking    molecular:    Após   a   etapa  de   análise\n",
            "conformacional,     as   estruturas   mais    representativas\n",
            "seriam  selecionadas   para  a etapa de  docking   molecular.\n",
            "O   docking    molecular    não   foi  realizado    devido   a\n",
            "problemas     com    o   uso    do   software    selecionado\n",
            "(AutoDock®),    e não   foi possível  obter  mais  resultados\n",
            "com a pesquisa.                                                    Figura  4 –  Rota  de  obtenção  dos  compostos   GL1,   GL2\n",
            "                Resultados e discussão                             e GL3.\n",
            "\n",
            "                                                                                           Conclusões\n",
            "A  rota sintética  para  obtenção    dos  compostos     GL1,       Não  foi  possível  executar  todos  os  objetivos  propostos\n",
            "GL2   e  GL3   (Figura   4)  foi  planejada   de  forma   a se     devido  a limitações  surgidas  por ocasião  da  pandemia   de\n",
            "obter   os   mesmos       com    facilidade,    exigindo     o     COVID-19,     que   restringiu  a circulação   e o  acesso  às\n",
            "mínimo     de  etapas    possíveis    para   sua   obtenção,       máquinas   para  realização  dos cálculos, e também    devido\n",
            "como discutido a seguir:                                           a limitações   encontradas   com   o software.  Ainda   assim\n",
            "                                                                   foi possível observar   a importância  das  etapas iniciais de\n",
            "A    primeira     etapa    consiste     na    obtenção     do      análise  conformacional     evidenciando     particularidades\n",
            "intermediário     I  (α-D-glicopiranosídeo       de   metila)      dos  compostos    que  irão  evitar a  execução   de cálculos\n",
            "por  tratamento     com    metanol    em   meio    ácido,  de      potencialmente desnecessários.\n",
            "modo   a  converter   a hidroxila   da posição   C1  do  anel                           Agradecimento\n",
            "glicopiranosídico    em   um  grupo   metoxila.   Esta  etapa\n",
            "tem   por  ﬁnalidade    mascarar    o  caráter   mais   ácido      Ao  Conselho   Nacional   do Desenvolvimento      Científico e\n",
            "desta hidroxila,   devido   ao seu  caráter  de  hemiacetal,       Tecnológico   - CNPq,    pelo fomento   com   a concessão   de\n",
            "convertendo-a em um acetal.                                        bolsa   durante   o  período    de  desenvolvimento      dessa\n",
            "                                                                   Iniciação    Científica.   Ao     professor    Daniel,    pela\n",
            "A  segunda   etapa   consiste  na  conversão    da hidroxila       oportunidade   de  orientação   no decorrer  dessa  pesquisa.\n",
            "da   posição    C6,    nucleoﬁlicamente       mais    reativa      À  Universidade    Federal   de Itajubá.  E  aos colegas   que\n",
            "devido   ao seu  caráter  primário,   em   um   grupo   tosila     contribuíram no desenvolvimento deste trabalho.\n",
            "                                                                   (com      caráter    de    grupo      abandonador),       por\n",
            "         O  planejamento     dos  compostos    foi  realizado      substituição     nucleofílica    com    cloreto    de   tosila\n",
            "com  base  na  estrutura da  D-glicose  e das  características     (p-toluenosulfonila)      em    piridina    e   levando     ao\n",
            "necessárias   para  conseguir    reativar  a  AChE.    Foram       intermediário    II.\n",
            "assim desenvolvidos os compostos       GL1,  GL2   e GL3.\n",
            "                       Metodologia                                 A     terceira     etapa    consiste      na    substituição\n",
            "                                                                   nucleofílica   do  grupo   tosilato  pelos  grupos   2-,  3- e\n",
            "A –  Planejamento   dos  compostos:   com   base na  estrutura     4-formilpiridino,      formando-se      os   intermediários\n",
            "da  D-glicose   e   das  características   necessárias   para      III-1,  III-2  e  III-3  respectivamente.      Isto deve   ser\n",
            "conseguir  reativar a AChE   (presença   de um  grupo  oxima       feito  tratando-se    o  intermediário    II  com    2-, 3-  e\n",
            "e  de   uma    carga   positiva),  como    na   estrutura   da     4-formilpiridina, respectivamente.\n",
            "pralidoxima,  foram  concebidos    os compostos   GL1,   GL2\n",
            "eGL3.(Figura 4).                                                   A  quarta   etapa   pode   ser  alcançada    tratando-se    os\n",
            "B   -   Análise    Conformacional:      posteriormente,     as     intermediários       III-1,     III-2     e    III-3     com\n",
            "estruturas  da  GL1,    GL2    e   GL3    foram   construídas      hidroxilamina,         levando-se        aos      compostos\n",
            "tridimensionalmente    a  partir do programa    GaussView®         planejados   GL1,    GL2   e GL3.\n",
            "e salvas no  formato  MOL2.    Após   o processo  de  criação,\n",
            "não  foi possível   realizar  a otimização   dos  compostos\n",
            "devido a dificuldades com o acesso remoto.\n",
            "\n",
            "C  –   Docking    molecular:    Após   a   etapa  de   análise\n",
            "conformacional,     as   estruturas   mais    representativas\n",
            "seriam  selecionadas   para  a etapa de  docking   molecular.\n",
            "O   docking    molecular    não   foi  realizado    devido   a\n",
            "problemas     com    o   uso    do   software    selecionado\n",
            "(AutoDock®),    e não   foi possível  obter  mais  resultados\n",
            "com a pesquisa.                                                    Figura  4 –  Rota  de  obtenção  dos  compostos   GL1,   GL2\n",
            "                Resultados e discussão                             e GL3.\n",
            "\n",
            "                                                                                           Conclusões\n",
            "A  rota sintética  para  obtenção    dos  compostos     GL1,       Não  foi  possível  executar  todos  os  objetivos  propostos\n",
            "GL2   e  GL3   (Figura   4)  foi  planejada   de  forma   a se     devido  a limitações  surgidas  por ocasião  da  pandemia   de\n",
            "obter   os   mesmos       com    facilidade,    exigindo     o     COVID-19,     que   restringiu  a circulação   e o  acesso  às\n",
            "mínimo     de  etapas    possíveis    para   sua   obtenção,       máquinas   para  realização  dos cálculos, e também    devido\n",
            "como discutido a seguir:                                           a limitações   encontradas   com   o software.  Ainda   assim\n",
            "                                                                   foi possível observar   a importância  das  etapas iniciais de\n",
            "A    primeira     etapa    consiste     na    obtenção     do      análise  conformacional     evidenciando     particularidades\n",
            "intermediário     I  (α-D-glicopiranosídeo       de   metila)      dos  compostos    que  irão  evitar a  execução   de cálculos\n",
            "por  tratamento     com    metanol    em   meio    ácido,  de      potencialmente desnecessários.\n",
            "modo   a  converter   a hidroxila   da posição   C1  do  anel                           Agradecimento\n",
            "glicopiranosídico    em   um  grupo   metoxila.   Esta  etapa\n",
            "tem   por  ﬁnalidade    mascarar    o  caráter   mais   ácido      Ao  Conselho   Nacional   do Desenvolvimento      Científico e\n",
            "desta hidroxila,   devido   ao seu  caráter  de  hemiacetal,       Tecnológico   - CNPq,    pelo fomento   com   a concessão   de\n",
            "convertendo-a em um acetal.                                        bolsa   durante   o  período    de  desenvolvimento      dessa\n",
            "                                                                   Iniciação    Científica.   Ao     professor    Daniel,    pela\n",
            "A  segunda   etapa   consiste  na  conversão    da hidroxila       oportunidade   de  orientação   no decorrer  dessa  pesquisa.\n",
            "da   posição    C6,    nucleoﬁlicamente       mais    reativa      À  Universidade    Federal   de Itajubá.  E  aos colegas   que\n",
            "devido   ao seu  caráter  primário,   em   um   grupo   tosila     contribuíram no desenvolvimento deste trabalho.\n",
            "                          Referências                                     SPIWOK,     V., CH/π   interactions  in carbohydrate   recognition.\n",
            "\n",
            "                                                                          Molecules 2017, 22, 1038-1049.\n",
            "DIAS,   C.; RAUTER,     A.  P.,Carbohydrates    and glycomimetics         VARGAS,     J.P.; PINTO,   L. M.;  SAVEGNAGO,        L.; LÜDTKE,\n",
            "in  Alzheimer’s      disease   therapeutics    and    diagnosis   in      D. S., Synthesis  of alkylselenocarbohydrates     and evaluation  of\n",
            "Carbohydrates     in  drug  design   and   discovery.   The   Royal       their antioxidant   properties.  J. Braz.  Chem.    Soc.  2015,  26,\n",
            "Society of Chemistry, Cambridge, UK, 2015, pages 180-208.                 810-815.\n",
            "\n",
            "DRIANT,    T. et al. On  the Influence   of the Protonation   States      VINHAL,      D.   C.,  SOARES,       V.  H.   C.  Intoxicação    por\n",
            "of Active  Site  Residues   on AChE.    Reactivation:   A QM/MM           Organofosforados: Uma Revisão da Literatura., 2018.\n",
            "Approach. ChemBioChem, v. 18, p. 666-675, 2017.\n",
            "\n",
            "FIFER,       E.      K.     Drugs       Affecting       Cholinergic\n",
            "Neurotransmission.    In:  LEMKE,     T.  L.; WILLIAMS,      D.  A.;\n",
            "ROCHE,     V.  F.;  ZITO,   S.  W.   (Ed.).  Foye’s   Principles  of\n",
            "Medicinal   Chemistry,  7th.  ed. Philadelphia:  Lippincott,  2013.\n",
            "1500p. cap. 9, p. 309-339.\n",
            "\n",
            "GONÇALVES,        A.  S.; FRANÇA,      T. C. C., SILVA,   A. W.   S.;\n",
            "FIGUEROA-VILLAR,            J.D.  Molecular     dynamics     of  the\n",
            "interaction   of   pralidoxime     and    deazapralidoxime      with\n",
            "acetylcholinesterase inhibited by the neurotoxic           agent\n",
            "tabun.Journal    of          the  Brazilian    Chemical     Society\n",
            "2006, 17,   968.\n",
            "\n",
            "LEAL,    D.  H.  S.  MACROLACTAMAS              DERIVADAS        DE\n",
            "CARBOIDRATOS:                SÍNTESE           E         ANÁLISE\n",
            "CONFORMACIONAL                        POR              MÉTODOS\n",
            "QUANTO-MECÂNICOS.             2009.  404   p. Tese  (Doutorado   em\n",
            "Ciências   Farmacêuticas     -  Fármacos     e   Medicamentos)      -\n",
            "Faculdade    de  Farmácia,    Universidade     Federal   de   Minas\n",
            "Gerais, Belo Horizonte, 2009.\n",
            "\n",
            "Nelson,   D.  L.; Cox,   M.   M.,  Princípios   de  Bioquímica    de\n",
            "Lehninger. 6ª edição, Artmed: Porto Alegre, 2014.\n",
            "\n",
            "OCHOA,      R.;   RODRIGUEZ,        C.   A.;  ZULUAGA,        A.   F.\n",
            "Perspectives      for     the    structure-based       design     of\n",
            "acetylcholinesterase   reactivators.  J. Mol.   Graph.   Model.,   v.\n",
            "68, p. 176-183, 2016.\n",
            "\n",
            "OLSEN,    J. I.; PLATA,    G. B.;  PADRON,      J.M.;  LOPEZ,    O.;\n",
            "BOLS,        M.;      FERNANDEZ-BOLAÑOS,                  J.     G.,\n",
            "Selenoureido-iminosugars:     A  new  family  of multitarget  drugs.\n",
            "Eur. J. Med. Chem. 2016, 123, 155-160.\n",
            "\n",
            "RAMALHO,          T.   R.    et   al.   Development       of    new\n",
            "acetylcholinesterase   reactivators:  Molecular   modeling    versus\n",
            "in vitro data. Chem. Biol. Inter., v. 185, n. 1, p. 73-77, 2010.\n",
            "\n",
            "SILVA,   L., Síntese  de  glicosil amidas   e glicoconjugação    via\n",
            "utilização  de  selenocarboxilatos     como   reagentes   traceless.\n",
            "Dissertação  de  mestrado,   Instituto de  Química,   Universidade\n",
            "Federal do Rio Grande do Sul, 2016\n",
            "                          Referências                                     SPIWOK,     V., CH/π   interactions  in carbohydrate   recognition.\n",
            "\n",
            "                                                                          Molecules 2017, 22, 1038-1049.\n",
            "DIAS,   C.; RAUTER,     A.  P.,Carbohydrates    and glycomimetics         VARGAS,     J.P.; PINTO,   L. M.;  SAVEGNAGO,        L.; LÜDTKE,\n",
            "in  Alzheimer’s      disease   therapeutics    and    diagnosis   in      D. S., Synthesis  of alkylselenocarbohydrates     and evaluation  of\n",
            "Carbohydrates     in  drug  design   and   discovery.   The   Royal       their antioxidant   properties.  J. Braz.  Chem.    Soc.  2015,  26,\n",
            "Society of Chemistry, Cambridge, UK, 2015, pages 180-208.                 810-815.\n",
            "\n",
            "DRIANT,    T. et al. On  the Influence   of the Protonation   States      VINHAL,      D.   C.,  SOARES,       V.  H.   C.  Intoxicação    por\n",
            "of Active  Site  Residues   on AChE.    Reactivation:   A QM/MM           Organofosforados: Uma Revisão da Literatura., 2018.\n",
            "Approach. ChemBioChem, v. 18, p. 666-675, 2017.\n",
            "\n",
            "FIFER,       E.      K.     Drugs       Affecting       Cholinergic\n",
            "Neurotransmission.    In:  LEMKE,     T.  L.; WILLIAMS,      D.  A.;\n",
            "ROCHE,     V.  F.;  ZITO,   S.  W.   (Ed.).  Foye’s   Principles  of\n",
            "Medicinal   Chemistry,  7th.  ed. Philadelphia:  Lippincott,  2013.\n",
            "1500p. cap. 9, p. 309-339.\n",
            "\n",
            "GONÇALVES,        A.  S.; FRANÇA,      T. C. C., SILVA,   A. W.   S.;\n",
            "FIGUEROA-VILLAR,            J.D.  Molecular     dynamics     of  the\n",
            "interaction   of   pralidoxime     and    deazapralidoxime      with\n",
            "acetylcholinesterase inhibited by the neurotoxic           agent\n",
            "tabun.Journal    of          the  Brazilian    Chemical     Society\n",
            "2006, 17,   968.\n",
            "\n",
            "LEAL,    D.  H.  S.  MACROLACTAMAS              DERIVADAS        DE\n",
            "CARBOIDRATOS:                SÍNTESE           E         ANÁLISE\n",
            "CONFORMACIONAL                        POR              MÉTODOS\n",
            "QUANTO-MECÂNICOS.             2009.  404   p. Tese  (Doutorado   em\n",
            "Ciências   Farmacêuticas     -  Fármacos     e   Medicamentos)      -\n",
            "Faculdade    de  Farmácia,    Universidade     Federal   de   Minas\n",
            "Gerais, Belo Horizonte, 2009.\n",
            "\n",
            "Nelson,   D.  L.; Cox,   M.   M.,  Princípios   de  Bioquímica    de\n",
            "Lehninger. 6ª edição, Artmed: Porto Alegre, 2014.\n",
            "\n",
            "OCHOA,      R.;   RODRIGUEZ,        C.   A.;  ZULUAGA,        A.   F.\n",
            "Perspectives      for     the    structure-based       design     of\n",
            "acetylcholinesterase   reactivators.  J. Mol.   Graph.   Model.,   v.\n",
            "68, p. 176-183, 2016.\n",
            "\n",
            "OLSEN,    J. I.; PLATA,    G. B.;  PADRON,      J.M.;  LOPEZ,    O.;\n",
            "BOLS,        M.;      FERNANDEZ-BOLAÑOS,                  J.     G.,\n",
            "Selenoureido-iminosugars:     A  new  family  of multitarget  drugs.\n",
            "Eur. J. Med. Chem. 2016, 123, 155-160.\n",
            "\n",
            "RAMALHO,          T.   R.    et   al.   Development       of    new\n",
            "acetylcholinesterase   reactivators:  Molecular   modeling    versus\n",
            "in vitro data. Chem. Biol. Inter., v. 185, n. 1, p. 73-77, 2010.\n",
            "\n",
            "SILVA,   L., Síntese  de  glicosil amidas   e glicoconjugação    via\n",
            "utilização  de  selenocarboxilatos     como   reagentes   traceless.\n",
            "Dissertação  de  mestrado,   Instituto de  Química,   Universidade\n",
            "Federal do Rio Grande do Sul, 2016\n"
          ]
        }
      ]
    }
  ]
}